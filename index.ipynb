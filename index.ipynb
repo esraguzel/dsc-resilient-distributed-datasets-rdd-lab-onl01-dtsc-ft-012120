{
  "nbformat": 4,
  "nbformat_minor": 0,
  "metadata": {
    "kernelspec": {
      "display_name": "Python 3",
      "language": "python",
      "name": "python3"
    },
    "language_info": {
      "codemirror_mode": {
        "name": "ipython",
        "version": 3
      },
      "file_extension": ".py",
      "mimetype": "text/x-python",
      "name": "python",
      "nbconvert_exporter": "python",
      "pygments_lexer": "ipython3",
      "version": "3.7.3"
    },
    "colab": {
      "name": "index.ipynb",
      "provenance": [],
      "include_colab_link": true
    }
  },
  "cells": [
    {
      "cell_type": "markdown",
      "metadata": {
        "id": "view-in-github",
        "colab_type": "text"
      },
      "source": [
        "<a href=\"https://colab.research.google.com/github/esraguzel/dsc-resilient-distributed-datasets-rdd-lab-onl01-dtsc-ft-012120/blob/master/index.ipynb\" target=\"_parent\"><img src=\"https://colab.research.google.com/assets/colab-badge.svg\" alt=\"Open In Colab\"/></a>"
      ]
    },
    {
      "cell_type": "markdown",
      "metadata": {
        "id": "VsBxjjO_IE6s",
        "colab_type": "text"
      },
      "source": [
        "## Resilient Distributed Datasets (RDDs) - Lab\n",
        "\n",
        "Resilient Distributed Datasets (RDD) are fundamental data structures of Spark. An RDD is essentially the Spark representation of a set of data, spread across multiple machines, with APIs to let you act on it. An RDD can come from any data source, e.g. text files, a database, a JSON file, etc.\n",
        "\n",
        "\n",
        "## Objectives\n",
        "\n",
        "You will be able to:\n",
        "\n",
        "- Apply the map(func) transformation to a given function on all elements of an RDD in different partitions \n",
        "- Apply a map transformation for all elements of an RDD \n",
        "- Compare the difference between a transformation and an action within RDDs \n",
        "- Use collect(), count(), and take() actions to trigger spark transformations  \n",
        "- Use filter to select data that meets certain specifications within an RDD \n",
        "- Set number of partitions for parallelizing RDDs \n",
        "- Create RDDs from Python collections \n"
      ]
    },
    {
      "cell_type": "markdown",
      "metadata": {
        "id": "j_B9uO1kIE6v",
        "colab_type": "text"
      },
      "source": [
        "### RDD Transformations vs Actions\n",
        "\n",
        "In Spark, we first create a __base RDD__ and then apply one or more transformations to that base RDD following our processing needs. Being immutable means, **once an RDD is created, it cannot be changed**. As a result, **each transformation of an RDD creates a new RDD**. Finally, we can apply one or more **actions** to the RDDs. Spark uses lazy evaluation, so transformations are not actually executed until an action occurs.\n",
        "\n",
        "\n",
        "<img src=\"./images/rdd_diagram.png\" width=500>"
      ]
    },
    {
      "cell_type": "markdown",
      "metadata": {
        "id": "Gcrer7xqIE6v",
        "colab_type": "text"
      },
      "source": [
        "### Transformations\n",
        "\n",
        "Transformations create a new dataset from an existing one by passing each dataset element through a function and returning a new RDD representing the results. In short, creating an RDD from an existing RDD is ‘transformation’.\n",
        "All transformations in Spark are lazy. They do not compute their results right away. Instead, they just remember the transformations applied to some base dataset (e.g. a file). The transformations are only computed when an action requires a result that needs to be returned to the driver program.\n",
        "A transformation is an RDD that returns another RDD, like map, flatMap, filter, reduceByKey, join, cogroup, etc.\n",
        "\n",
        "### Actions\n",
        "Actions return final results of RDD computations. Actions trigger execution using lineage graph to load the data into original RDD and carry out all intermediate transformations and return the final results to the driver program or writes it out to the file system. An action returns a value (to a Spark driver - the user program).\n",
        "\n",
        "Here are some key transformations and actions that we will explore.\n",
        "\n",
        "\n",
        "| Transformations   | Actions       |\n",
        "|-------------------|---------------|\n",
        "| map(func)         | reduce(func)  |\n",
        "| filter(func)      | collect()     |\n",
        "| groupByKey()      | count()       |\n",
        "| reduceByKey(func) | first()       |\n",
        "| mapValues(func)   | take()        |\n",
        "| sample()          | countByKey()  |\n",
        "| distinct()        | foreach(func) |\n",
        "| sortByKey()       |               |\n"
      ]
    },
    {
      "cell_type": "markdown",
      "metadata": {
        "id": "zQYOnuSyIE6w",
        "colab_type": "text"
      },
      "source": [
        "Let's see how transformations and actions work through a simple example. In this example, we will perform several actions and transformations on RDDs in order to obtain a better understanding of Spark processing. \n",
        "\n",
        "### Create a Python collection \n",
        "\n",
        "We need some data to start experimenting with RDDs. Let's create some sample data and see how RDDs handle it. To practice working with RDDs, we're going to use a simple Python list.\n",
        "\n",
        "- Create a Python list `data` of integers between 1 and 1000 using the `range()` function. \n",
        "- Sanity check: confirm the length of the list (it should be 1000)"
      ]
    },
    {
      "cell_type": "code",
      "metadata": {
        "id": "jz-GYOVYJjD6",
        "colab_type": "code",
        "colab": {}
      },
      "source": [
        "!apt-get install openjdk-8-jdk-headless -qq > /dev/null\n",
        "!wget -q https://downloads.apache.org/spark/spark-2.4.5/spark-2.4.5-bin-hadoop2.7.tgz\n",
        "!tar xf spark-2.4.5-bin-hadoop2.7.tgz\n",
        "!pip install -q findspark"
      ],
      "execution_count": 0,
      "outputs": []
    },
    {
      "cell_type": "code",
      "metadata": {
        "id": "p48ppl3qJjWh",
        "colab_type": "code",
        "colab": {}
      },
      "source": [
        "import os\n",
        "os.environ[\"JAVA_HOME\"] = \"/usr/lib/jvm/java-8-openjdk-amd64\"\n",
        "os.environ[\"SPARK_HOME\"] = \"/content/spark-2.4.5-bin-hadoop2.7\""
      ],
      "execution_count": 0,
      "outputs": []
    },
    {
      "cell_type": "code",
      "metadata": {
        "id": "qzs0DBvqJjkI",
        "colab_type": "code",
        "colab": {
          "base_uri": "https://localhost:8080/",
          "height": 238
        },
        "outputId": "5b9aef39-46a1-4f1f-abb1-2b1b8860a955"
      },
      "source": [
        "!pip install pyspark"
      ],
      "execution_count": 4,
      "outputs": [
        {
          "output_type": "stream",
          "text": [
            "Collecting pyspark\n",
            "\u001b[?25l  Downloading https://files.pythonhosted.org/packages/9a/5a/271c416c1c2185b6cb0151b29a91fff6fcaed80173c8584ff6d20e46b465/pyspark-2.4.5.tar.gz (217.8MB)\n",
            "\u001b[K     |████████████████████████████████| 217.8MB 63kB/s \n",
            "\u001b[?25hCollecting py4j==0.10.7\n",
            "\u001b[?25l  Downloading https://files.pythonhosted.org/packages/e3/53/c737818eb9a7dc32a7cd4f1396e787bd94200c3997c72c1dbe028587bd76/py4j-0.10.7-py2.py3-none-any.whl (197kB)\n",
            "\u001b[K     |████████████████████████████████| 204kB 46.4MB/s \n",
            "\u001b[?25hBuilding wheels for collected packages: pyspark\n",
            "  Building wheel for pyspark (setup.py) ... \u001b[?25l\u001b[?25hdone\n",
            "  Created wheel for pyspark: filename=pyspark-2.4.5-py2.py3-none-any.whl size=218257927 sha256=0850e117d026dcba44dba12855cb4836f5486fdfe36ed4306fb9a93378f19961\n",
            "  Stored in directory: /root/.cache/pip/wheels/bf/db/04/61d66a5939364e756eb1c1be4ec5bdce6e04047fc7929a3c3c\n",
            "Successfully built pyspark\n",
            "Installing collected packages: py4j, pyspark\n",
            "Successfully installed py4j-0.10.7 pyspark-2.4.5\n"
          ],
          "name": "stdout"
        }
      ]
    },
    {
      "cell_type": "code",
      "metadata": {
        "id": "UpKkHhH3Kg7l",
        "colab_type": "code",
        "colab": {
          "base_uri": "https://localhost:8080/",
          "height": 34
        },
        "outputId": "a66de76b-c0f2-490b-a3b2-fb18d7c93627"
      },
      "source": [
        "nums = list(range(1,1001))\n",
        "len(nums)"
      ],
      "execution_count": 5,
      "outputs": [
        {
          "output_type": "execute_result",
          "data": {
            "text/plain": [
              "1000"
            ]
          },
          "metadata": {
            "tags": []
          },
          "execution_count": 5
        }
      ]
    },
    {
      "cell_type": "markdown",
      "metadata": {
        "id": "YvaxuKhYIE60",
        "colab_type": "text"
      },
      "source": [
        "### Initialize an RDD\n",
        "\n",
        "When using Spark to make computations, datasets are treated as lists of entries. Those lists are split into different partitions across different cores or different computers. Each list of data held in memory is a partition of the RDD. The reason why Spark is able to make computations far faster than other big data processing languages is that it allows all data to be stored __in-memory__, which allows for easy access to the data and, in turn, high-speed processing. Here is an example of how the alphabet might be split into different RDDs and held across a distributed collection of nodes:\n",
        "\n",
        "<img src =\"./images/partitions_1.png\" width =\"500\">  \n",
        "To initialize an RDD, first import `pyspark` and then create a SparkContext assigned to the variable `sc`. Use `'local[*]'` as the master."
      ]
    },
    {
      "cell_type": "code",
      "metadata": {
        "id": "QpVNjHkbIE60",
        "colab_type": "code",
        "colab": {}
      },
      "source": [
        "\n",
        "import pyspark\n",
        "sc = pyspark.SparkContext('local[*]')"
      ],
      "execution_count": 0,
      "outputs": []
    },
    {
      "cell_type": "markdown",
      "metadata": {
        "id": "dxYgjyRZIE63",
        "colab_type": "text"
      },
      "source": [
        "Once you've created the SparkContext, you can use the `.parallelize()` method to create an RDD that will distribute the list of numbers across multiple cores. Here, create one called `rdd` with 10 partitions using `data` as the collection you are parallelizing."
      ]
    },
    {
      "cell_type": "code",
      "metadata": {
        "id": "KmGM5z5rIE63",
        "colab_type": "code",
        "colab": {
          "base_uri": "https://localhost:8080/",
          "height": 34
        },
        "outputId": "212ff67b-4778-4768-abfc-d465cc27c35e"
      },
      "source": [
        "rdd = sc.parallelize(nums, numSlices=10)\n",
        "print(type(rdd))\n",
        "# <class 'pyspark.rdd.RDD'>"
      ],
      "execution_count": 7,
      "outputs": [
        {
          "output_type": "stream",
          "text": [
            "<class 'pyspark.rdd.RDD'>\n"
          ],
          "name": "stdout"
        }
      ]
    },
    {
      "cell_type": "markdown",
      "metadata": {
        "id": "ZSRJcQDeIE66",
        "colab_type": "text"
      },
      "source": [
        "Determine how many partitions are being used with this RDD with the `.getNumPartitions()` method."
      ]
    },
    {
      "cell_type": "code",
      "metadata": {
        "id": "DMI5fcQIIE66",
        "colab_type": "code",
        "colab": {
          "base_uri": "https://localhost:8080/",
          "height": 34
        },
        "outputId": "3b50209a-2f97-4a72-f121-aa8c1b338d3d"
      },
      "source": [
        "rdd.getNumPartitions()\n",
        "# 10"
      ],
      "execution_count": 8,
      "outputs": [
        {
          "output_type": "execute_result",
          "data": {
            "text/plain": [
              "10"
            ]
          },
          "metadata": {
            "tags": []
          },
          "execution_count": 8
        }
      ]
    },
    {
      "cell_type": "markdown",
      "metadata": {
        "id": "Bbfmt_30IE68",
        "colab_type": "text"
      },
      "source": [
        "### Basic descriptive RDD actions\n",
        "\n",
        "Let's perform some basic operations on our RDD. In the cell below, use the methods:\n",
        "* `count`: returns the total count of items in the RDD \n",
        "* `first`: returns the first item in the RDD\n",
        "* `take`: returns the first `n` items in the RDD\n",
        "* `top`: returns the top `n` items\n",
        "* `collect`: returns everything from your RDD\n",
        "\n",
        "\n",
        "It's important to note that in a big data context, calling the collect method will often take a very long time to execute and should be handled with care!"
      ]
    },
    {
      "cell_type": "code",
      "metadata": {
        "scrolled": true,
        "id": "4-Ym_TXEIE69",
        "colab_type": "code",
        "colab": {
          "base_uri": "https://localhost:8080/",
          "height": 34
        },
        "outputId": "9e20fe1e-4f10-452f-dcf9-01f3bbd92f5a"
      },
      "source": [
        "# count\n",
        "rdd.count()"
      ],
      "execution_count": 9,
      "outputs": [
        {
          "output_type": "execute_result",
          "data": {
            "text/plain": [
              "1000"
            ]
          },
          "metadata": {
            "tags": []
          },
          "execution_count": 9
        }
      ]
    },
    {
      "cell_type": "code",
      "metadata": {
        "id": "qCuXYZA6IE7A",
        "colab_type": "code",
        "colab": {
          "base_uri": "https://localhost:8080/",
          "height": 34
        },
        "outputId": "64fb02ef-31b5-461d-e55e-5402f8a69737"
      },
      "source": [
        "# first\n",
        "rdd.first()"
      ],
      "execution_count": 10,
      "outputs": [
        {
          "output_type": "execute_result",
          "data": {
            "text/plain": [
              "1"
            ]
          },
          "metadata": {
            "tags": []
          },
          "execution_count": 10
        }
      ]
    },
    {
      "cell_type": "code",
      "metadata": {
        "id": "tUxR-RfnIE7C",
        "colab_type": "code",
        "colab": {
          "base_uri": "https://localhost:8080/",
          "height": 34
        },
        "outputId": "1ef45a05-a522-4e04-c181-3288b60cc061"
      },
      "source": [
        "# take\n",
        "rdd.take(5)"
      ],
      "execution_count": 11,
      "outputs": [
        {
          "output_type": "execute_result",
          "data": {
            "text/plain": [
              "[1, 2, 3, 4, 5]"
            ]
          },
          "metadata": {
            "tags": []
          },
          "execution_count": 11
        }
      ]
    },
    {
      "cell_type": "code",
      "metadata": {
        "id": "EHGoRER_IE7E",
        "colab_type": "code",
        "colab": {
          "base_uri": "https://localhost:8080/",
          "height": 34
        },
        "outputId": "8b84b946-3b43-44b9-b4ed-d4142a045c53"
      },
      "source": [
        "# top\n",
        "rdd.top(4)"
      ],
      "execution_count": 12,
      "outputs": [
        {
          "output_type": "execute_result",
          "data": {
            "text/plain": [
              "[1000, 999, 998, 997]"
            ]
          },
          "metadata": {
            "tags": []
          },
          "execution_count": 12
        }
      ]
    },
    {
      "cell_type": "code",
      "metadata": {
        "scrolled": true,
        "id": "C4GCgYJsIE7G",
        "colab_type": "code",
        "colab": {
          "base_uri": "https://localhost:8080/",
          "height": 1000
        },
        "outputId": "05468867-e4a7-4f8a-a203-8e5919c62778"
      },
      "source": [
        "# collect\n",
        "rdd.collect()"
      ],
      "execution_count": 13,
      "outputs": [
        {
          "output_type": "execute_result",
          "data": {
            "text/plain": [
              "[1,\n",
              " 2,\n",
              " 3,\n",
              " 4,\n",
              " 5,\n",
              " 6,\n",
              " 7,\n",
              " 8,\n",
              " 9,\n",
              " 10,\n",
              " 11,\n",
              " 12,\n",
              " 13,\n",
              " 14,\n",
              " 15,\n",
              " 16,\n",
              " 17,\n",
              " 18,\n",
              " 19,\n",
              " 20,\n",
              " 21,\n",
              " 22,\n",
              " 23,\n",
              " 24,\n",
              " 25,\n",
              " 26,\n",
              " 27,\n",
              " 28,\n",
              " 29,\n",
              " 30,\n",
              " 31,\n",
              " 32,\n",
              " 33,\n",
              " 34,\n",
              " 35,\n",
              " 36,\n",
              " 37,\n",
              " 38,\n",
              " 39,\n",
              " 40,\n",
              " 41,\n",
              " 42,\n",
              " 43,\n",
              " 44,\n",
              " 45,\n",
              " 46,\n",
              " 47,\n",
              " 48,\n",
              " 49,\n",
              " 50,\n",
              " 51,\n",
              " 52,\n",
              " 53,\n",
              " 54,\n",
              " 55,\n",
              " 56,\n",
              " 57,\n",
              " 58,\n",
              " 59,\n",
              " 60,\n",
              " 61,\n",
              " 62,\n",
              " 63,\n",
              " 64,\n",
              " 65,\n",
              " 66,\n",
              " 67,\n",
              " 68,\n",
              " 69,\n",
              " 70,\n",
              " 71,\n",
              " 72,\n",
              " 73,\n",
              " 74,\n",
              " 75,\n",
              " 76,\n",
              " 77,\n",
              " 78,\n",
              " 79,\n",
              " 80,\n",
              " 81,\n",
              " 82,\n",
              " 83,\n",
              " 84,\n",
              " 85,\n",
              " 86,\n",
              " 87,\n",
              " 88,\n",
              " 89,\n",
              " 90,\n",
              " 91,\n",
              " 92,\n",
              " 93,\n",
              " 94,\n",
              " 95,\n",
              " 96,\n",
              " 97,\n",
              " 98,\n",
              " 99,\n",
              " 100,\n",
              " 101,\n",
              " 102,\n",
              " 103,\n",
              " 104,\n",
              " 105,\n",
              " 106,\n",
              " 107,\n",
              " 108,\n",
              " 109,\n",
              " 110,\n",
              " 111,\n",
              " 112,\n",
              " 113,\n",
              " 114,\n",
              " 115,\n",
              " 116,\n",
              " 117,\n",
              " 118,\n",
              " 119,\n",
              " 120,\n",
              " 121,\n",
              " 122,\n",
              " 123,\n",
              " 124,\n",
              " 125,\n",
              " 126,\n",
              " 127,\n",
              " 128,\n",
              " 129,\n",
              " 130,\n",
              " 131,\n",
              " 132,\n",
              " 133,\n",
              " 134,\n",
              " 135,\n",
              " 136,\n",
              " 137,\n",
              " 138,\n",
              " 139,\n",
              " 140,\n",
              " 141,\n",
              " 142,\n",
              " 143,\n",
              " 144,\n",
              " 145,\n",
              " 146,\n",
              " 147,\n",
              " 148,\n",
              " 149,\n",
              " 150,\n",
              " 151,\n",
              " 152,\n",
              " 153,\n",
              " 154,\n",
              " 155,\n",
              " 156,\n",
              " 157,\n",
              " 158,\n",
              " 159,\n",
              " 160,\n",
              " 161,\n",
              " 162,\n",
              " 163,\n",
              " 164,\n",
              " 165,\n",
              " 166,\n",
              " 167,\n",
              " 168,\n",
              " 169,\n",
              " 170,\n",
              " 171,\n",
              " 172,\n",
              " 173,\n",
              " 174,\n",
              " 175,\n",
              " 176,\n",
              " 177,\n",
              " 178,\n",
              " 179,\n",
              " 180,\n",
              " 181,\n",
              " 182,\n",
              " 183,\n",
              " 184,\n",
              " 185,\n",
              " 186,\n",
              " 187,\n",
              " 188,\n",
              " 189,\n",
              " 190,\n",
              " 191,\n",
              " 192,\n",
              " 193,\n",
              " 194,\n",
              " 195,\n",
              " 196,\n",
              " 197,\n",
              " 198,\n",
              " 199,\n",
              " 200,\n",
              " 201,\n",
              " 202,\n",
              " 203,\n",
              " 204,\n",
              " 205,\n",
              " 206,\n",
              " 207,\n",
              " 208,\n",
              " 209,\n",
              " 210,\n",
              " 211,\n",
              " 212,\n",
              " 213,\n",
              " 214,\n",
              " 215,\n",
              " 216,\n",
              " 217,\n",
              " 218,\n",
              " 219,\n",
              " 220,\n",
              " 221,\n",
              " 222,\n",
              " 223,\n",
              " 224,\n",
              " 225,\n",
              " 226,\n",
              " 227,\n",
              " 228,\n",
              " 229,\n",
              " 230,\n",
              " 231,\n",
              " 232,\n",
              " 233,\n",
              " 234,\n",
              " 235,\n",
              " 236,\n",
              " 237,\n",
              " 238,\n",
              " 239,\n",
              " 240,\n",
              " 241,\n",
              " 242,\n",
              " 243,\n",
              " 244,\n",
              " 245,\n",
              " 246,\n",
              " 247,\n",
              " 248,\n",
              " 249,\n",
              " 250,\n",
              " 251,\n",
              " 252,\n",
              " 253,\n",
              " 254,\n",
              " 255,\n",
              " 256,\n",
              " 257,\n",
              " 258,\n",
              " 259,\n",
              " 260,\n",
              " 261,\n",
              " 262,\n",
              " 263,\n",
              " 264,\n",
              " 265,\n",
              " 266,\n",
              " 267,\n",
              " 268,\n",
              " 269,\n",
              " 270,\n",
              " 271,\n",
              " 272,\n",
              " 273,\n",
              " 274,\n",
              " 275,\n",
              " 276,\n",
              " 277,\n",
              " 278,\n",
              " 279,\n",
              " 280,\n",
              " 281,\n",
              " 282,\n",
              " 283,\n",
              " 284,\n",
              " 285,\n",
              " 286,\n",
              " 287,\n",
              " 288,\n",
              " 289,\n",
              " 290,\n",
              " 291,\n",
              " 292,\n",
              " 293,\n",
              " 294,\n",
              " 295,\n",
              " 296,\n",
              " 297,\n",
              " 298,\n",
              " 299,\n",
              " 300,\n",
              " 301,\n",
              " 302,\n",
              " 303,\n",
              " 304,\n",
              " 305,\n",
              " 306,\n",
              " 307,\n",
              " 308,\n",
              " 309,\n",
              " 310,\n",
              " 311,\n",
              " 312,\n",
              " 313,\n",
              " 314,\n",
              " 315,\n",
              " 316,\n",
              " 317,\n",
              " 318,\n",
              " 319,\n",
              " 320,\n",
              " 321,\n",
              " 322,\n",
              " 323,\n",
              " 324,\n",
              " 325,\n",
              " 326,\n",
              " 327,\n",
              " 328,\n",
              " 329,\n",
              " 330,\n",
              " 331,\n",
              " 332,\n",
              " 333,\n",
              " 334,\n",
              " 335,\n",
              " 336,\n",
              " 337,\n",
              " 338,\n",
              " 339,\n",
              " 340,\n",
              " 341,\n",
              " 342,\n",
              " 343,\n",
              " 344,\n",
              " 345,\n",
              " 346,\n",
              " 347,\n",
              " 348,\n",
              " 349,\n",
              " 350,\n",
              " 351,\n",
              " 352,\n",
              " 353,\n",
              " 354,\n",
              " 355,\n",
              " 356,\n",
              " 357,\n",
              " 358,\n",
              " 359,\n",
              " 360,\n",
              " 361,\n",
              " 362,\n",
              " 363,\n",
              " 364,\n",
              " 365,\n",
              " 366,\n",
              " 367,\n",
              " 368,\n",
              " 369,\n",
              " 370,\n",
              " 371,\n",
              " 372,\n",
              " 373,\n",
              " 374,\n",
              " 375,\n",
              " 376,\n",
              " 377,\n",
              " 378,\n",
              " 379,\n",
              " 380,\n",
              " 381,\n",
              " 382,\n",
              " 383,\n",
              " 384,\n",
              " 385,\n",
              " 386,\n",
              " 387,\n",
              " 388,\n",
              " 389,\n",
              " 390,\n",
              " 391,\n",
              " 392,\n",
              " 393,\n",
              " 394,\n",
              " 395,\n",
              " 396,\n",
              " 397,\n",
              " 398,\n",
              " 399,\n",
              " 400,\n",
              " 401,\n",
              " 402,\n",
              " 403,\n",
              " 404,\n",
              " 405,\n",
              " 406,\n",
              " 407,\n",
              " 408,\n",
              " 409,\n",
              " 410,\n",
              " 411,\n",
              " 412,\n",
              " 413,\n",
              " 414,\n",
              " 415,\n",
              " 416,\n",
              " 417,\n",
              " 418,\n",
              " 419,\n",
              " 420,\n",
              " 421,\n",
              " 422,\n",
              " 423,\n",
              " 424,\n",
              " 425,\n",
              " 426,\n",
              " 427,\n",
              " 428,\n",
              " 429,\n",
              " 430,\n",
              " 431,\n",
              " 432,\n",
              " 433,\n",
              " 434,\n",
              " 435,\n",
              " 436,\n",
              " 437,\n",
              " 438,\n",
              " 439,\n",
              " 440,\n",
              " 441,\n",
              " 442,\n",
              " 443,\n",
              " 444,\n",
              " 445,\n",
              " 446,\n",
              " 447,\n",
              " 448,\n",
              " 449,\n",
              " 450,\n",
              " 451,\n",
              " 452,\n",
              " 453,\n",
              " 454,\n",
              " 455,\n",
              " 456,\n",
              " 457,\n",
              " 458,\n",
              " 459,\n",
              " 460,\n",
              " 461,\n",
              " 462,\n",
              " 463,\n",
              " 464,\n",
              " 465,\n",
              " 466,\n",
              " 467,\n",
              " 468,\n",
              " 469,\n",
              " 470,\n",
              " 471,\n",
              " 472,\n",
              " 473,\n",
              " 474,\n",
              " 475,\n",
              " 476,\n",
              " 477,\n",
              " 478,\n",
              " 479,\n",
              " 480,\n",
              " 481,\n",
              " 482,\n",
              " 483,\n",
              " 484,\n",
              " 485,\n",
              " 486,\n",
              " 487,\n",
              " 488,\n",
              " 489,\n",
              " 490,\n",
              " 491,\n",
              " 492,\n",
              " 493,\n",
              " 494,\n",
              " 495,\n",
              " 496,\n",
              " 497,\n",
              " 498,\n",
              " 499,\n",
              " 500,\n",
              " 501,\n",
              " 502,\n",
              " 503,\n",
              " 504,\n",
              " 505,\n",
              " 506,\n",
              " 507,\n",
              " 508,\n",
              " 509,\n",
              " 510,\n",
              " 511,\n",
              " 512,\n",
              " 513,\n",
              " 514,\n",
              " 515,\n",
              " 516,\n",
              " 517,\n",
              " 518,\n",
              " 519,\n",
              " 520,\n",
              " 521,\n",
              " 522,\n",
              " 523,\n",
              " 524,\n",
              " 525,\n",
              " 526,\n",
              " 527,\n",
              " 528,\n",
              " 529,\n",
              " 530,\n",
              " 531,\n",
              " 532,\n",
              " 533,\n",
              " 534,\n",
              " 535,\n",
              " 536,\n",
              " 537,\n",
              " 538,\n",
              " 539,\n",
              " 540,\n",
              " 541,\n",
              " 542,\n",
              " 543,\n",
              " 544,\n",
              " 545,\n",
              " 546,\n",
              " 547,\n",
              " 548,\n",
              " 549,\n",
              " 550,\n",
              " 551,\n",
              " 552,\n",
              " 553,\n",
              " 554,\n",
              " 555,\n",
              " 556,\n",
              " 557,\n",
              " 558,\n",
              " 559,\n",
              " 560,\n",
              " 561,\n",
              " 562,\n",
              " 563,\n",
              " 564,\n",
              " 565,\n",
              " 566,\n",
              " 567,\n",
              " 568,\n",
              " 569,\n",
              " 570,\n",
              " 571,\n",
              " 572,\n",
              " 573,\n",
              " 574,\n",
              " 575,\n",
              " 576,\n",
              " 577,\n",
              " 578,\n",
              " 579,\n",
              " 580,\n",
              " 581,\n",
              " 582,\n",
              " 583,\n",
              " 584,\n",
              " 585,\n",
              " 586,\n",
              " 587,\n",
              " 588,\n",
              " 589,\n",
              " 590,\n",
              " 591,\n",
              " 592,\n",
              " 593,\n",
              " 594,\n",
              " 595,\n",
              " 596,\n",
              " 597,\n",
              " 598,\n",
              " 599,\n",
              " 600,\n",
              " 601,\n",
              " 602,\n",
              " 603,\n",
              " 604,\n",
              " 605,\n",
              " 606,\n",
              " 607,\n",
              " 608,\n",
              " 609,\n",
              " 610,\n",
              " 611,\n",
              " 612,\n",
              " 613,\n",
              " 614,\n",
              " 615,\n",
              " 616,\n",
              " 617,\n",
              " 618,\n",
              " 619,\n",
              " 620,\n",
              " 621,\n",
              " 622,\n",
              " 623,\n",
              " 624,\n",
              " 625,\n",
              " 626,\n",
              " 627,\n",
              " 628,\n",
              " 629,\n",
              " 630,\n",
              " 631,\n",
              " 632,\n",
              " 633,\n",
              " 634,\n",
              " 635,\n",
              " 636,\n",
              " 637,\n",
              " 638,\n",
              " 639,\n",
              " 640,\n",
              " 641,\n",
              " 642,\n",
              " 643,\n",
              " 644,\n",
              " 645,\n",
              " 646,\n",
              " 647,\n",
              " 648,\n",
              " 649,\n",
              " 650,\n",
              " 651,\n",
              " 652,\n",
              " 653,\n",
              " 654,\n",
              " 655,\n",
              " 656,\n",
              " 657,\n",
              " 658,\n",
              " 659,\n",
              " 660,\n",
              " 661,\n",
              " 662,\n",
              " 663,\n",
              " 664,\n",
              " 665,\n",
              " 666,\n",
              " 667,\n",
              " 668,\n",
              " 669,\n",
              " 670,\n",
              " 671,\n",
              " 672,\n",
              " 673,\n",
              " 674,\n",
              " 675,\n",
              " 676,\n",
              " 677,\n",
              " 678,\n",
              " 679,\n",
              " 680,\n",
              " 681,\n",
              " 682,\n",
              " 683,\n",
              " 684,\n",
              " 685,\n",
              " 686,\n",
              " 687,\n",
              " 688,\n",
              " 689,\n",
              " 690,\n",
              " 691,\n",
              " 692,\n",
              " 693,\n",
              " 694,\n",
              " 695,\n",
              " 696,\n",
              " 697,\n",
              " 698,\n",
              " 699,\n",
              " 700,\n",
              " 701,\n",
              " 702,\n",
              " 703,\n",
              " 704,\n",
              " 705,\n",
              " 706,\n",
              " 707,\n",
              " 708,\n",
              " 709,\n",
              " 710,\n",
              " 711,\n",
              " 712,\n",
              " 713,\n",
              " 714,\n",
              " 715,\n",
              " 716,\n",
              " 717,\n",
              " 718,\n",
              " 719,\n",
              " 720,\n",
              " 721,\n",
              " 722,\n",
              " 723,\n",
              " 724,\n",
              " 725,\n",
              " 726,\n",
              " 727,\n",
              " 728,\n",
              " 729,\n",
              " 730,\n",
              " 731,\n",
              " 732,\n",
              " 733,\n",
              " 734,\n",
              " 735,\n",
              " 736,\n",
              " 737,\n",
              " 738,\n",
              " 739,\n",
              " 740,\n",
              " 741,\n",
              " 742,\n",
              " 743,\n",
              " 744,\n",
              " 745,\n",
              " 746,\n",
              " 747,\n",
              " 748,\n",
              " 749,\n",
              " 750,\n",
              " 751,\n",
              " 752,\n",
              " 753,\n",
              " 754,\n",
              " 755,\n",
              " 756,\n",
              " 757,\n",
              " 758,\n",
              " 759,\n",
              " 760,\n",
              " 761,\n",
              " 762,\n",
              " 763,\n",
              " 764,\n",
              " 765,\n",
              " 766,\n",
              " 767,\n",
              " 768,\n",
              " 769,\n",
              " 770,\n",
              " 771,\n",
              " 772,\n",
              " 773,\n",
              " 774,\n",
              " 775,\n",
              " 776,\n",
              " 777,\n",
              " 778,\n",
              " 779,\n",
              " 780,\n",
              " 781,\n",
              " 782,\n",
              " 783,\n",
              " 784,\n",
              " 785,\n",
              " 786,\n",
              " 787,\n",
              " 788,\n",
              " 789,\n",
              " 790,\n",
              " 791,\n",
              " 792,\n",
              " 793,\n",
              " 794,\n",
              " 795,\n",
              " 796,\n",
              " 797,\n",
              " 798,\n",
              " 799,\n",
              " 800,\n",
              " 801,\n",
              " 802,\n",
              " 803,\n",
              " 804,\n",
              " 805,\n",
              " 806,\n",
              " 807,\n",
              " 808,\n",
              " 809,\n",
              " 810,\n",
              " 811,\n",
              " 812,\n",
              " 813,\n",
              " 814,\n",
              " 815,\n",
              " 816,\n",
              " 817,\n",
              " 818,\n",
              " 819,\n",
              " 820,\n",
              " 821,\n",
              " 822,\n",
              " 823,\n",
              " 824,\n",
              " 825,\n",
              " 826,\n",
              " 827,\n",
              " 828,\n",
              " 829,\n",
              " 830,\n",
              " 831,\n",
              " 832,\n",
              " 833,\n",
              " 834,\n",
              " 835,\n",
              " 836,\n",
              " 837,\n",
              " 838,\n",
              " 839,\n",
              " 840,\n",
              " 841,\n",
              " 842,\n",
              " 843,\n",
              " 844,\n",
              " 845,\n",
              " 846,\n",
              " 847,\n",
              " 848,\n",
              " 849,\n",
              " 850,\n",
              " 851,\n",
              " 852,\n",
              " 853,\n",
              " 854,\n",
              " 855,\n",
              " 856,\n",
              " 857,\n",
              " 858,\n",
              " 859,\n",
              " 860,\n",
              " 861,\n",
              " 862,\n",
              " 863,\n",
              " 864,\n",
              " 865,\n",
              " 866,\n",
              " 867,\n",
              " 868,\n",
              " 869,\n",
              " 870,\n",
              " 871,\n",
              " 872,\n",
              " 873,\n",
              " 874,\n",
              " 875,\n",
              " 876,\n",
              " 877,\n",
              " 878,\n",
              " 879,\n",
              " 880,\n",
              " 881,\n",
              " 882,\n",
              " 883,\n",
              " 884,\n",
              " 885,\n",
              " 886,\n",
              " 887,\n",
              " 888,\n",
              " 889,\n",
              " 890,\n",
              " 891,\n",
              " 892,\n",
              " 893,\n",
              " 894,\n",
              " 895,\n",
              " 896,\n",
              " 897,\n",
              " 898,\n",
              " 899,\n",
              " 900,\n",
              " 901,\n",
              " 902,\n",
              " 903,\n",
              " 904,\n",
              " 905,\n",
              " 906,\n",
              " 907,\n",
              " 908,\n",
              " 909,\n",
              " 910,\n",
              " 911,\n",
              " 912,\n",
              " 913,\n",
              " 914,\n",
              " 915,\n",
              " 916,\n",
              " 917,\n",
              " 918,\n",
              " 919,\n",
              " 920,\n",
              " 921,\n",
              " 922,\n",
              " 923,\n",
              " 924,\n",
              " 925,\n",
              " 926,\n",
              " 927,\n",
              " 928,\n",
              " 929,\n",
              " 930,\n",
              " 931,\n",
              " 932,\n",
              " 933,\n",
              " 934,\n",
              " 935,\n",
              " 936,\n",
              " 937,\n",
              " 938,\n",
              " 939,\n",
              " 940,\n",
              " 941,\n",
              " 942,\n",
              " 943,\n",
              " 944,\n",
              " 945,\n",
              " 946,\n",
              " 947,\n",
              " 948,\n",
              " 949,\n",
              " 950,\n",
              " 951,\n",
              " 952,\n",
              " 953,\n",
              " 954,\n",
              " 955,\n",
              " 956,\n",
              " 957,\n",
              " 958,\n",
              " 959,\n",
              " 960,\n",
              " 961,\n",
              " 962,\n",
              " 963,\n",
              " 964,\n",
              " 965,\n",
              " 966,\n",
              " 967,\n",
              " 968,\n",
              " 969,\n",
              " 970,\n",
              " 971,\n",
              " 972,\n",
              " 973,\n",
              " 974,\n",
              " 975,\n",
              " 976,\n",
              " 977,\n",
              " 978,\n",
              " 979,\n",
              " 980,\n",
              " 981,\n",
              " 982,\n",
              " 983,\n",
              " 984,\n",
              " 985,\n",
              " 986,\n",
              " 987,\n",
              " 988,\n",
              " 989,\n",
              " 990,\n",
              " 991,\n",
              " 992,\n",
              " 993,\n",
              " 994,\n",
              " 995,\n",
              " 996,\n",
              " 997,\n",
              " 998,\n",
              " 999,\n",
              " 1000]"
            ]
          },
          "metadata": {
            "tags": []
          },
          "execution_count": 13
        }
      ]
    },
    {
      "cell_type": "markdown",
      "metadata": {
        "id": "-jfv2Ox7IE7J",
        "colab_type": "text"
      },
      "source": [
        "## Map functions\n",
        "\n",
        "Now that you've been working a little bit with RDDs, let's make this a little more interesting. Imagine you're running a hot new e-commerce startup called BuyStuff, and you're trying to track of how much it charges customers from each item sold. In the next cell, we're going to create simulated data by multiplying the values 1-1000 with a random number from 0-1."
      ]
    },
    {
      "cell_type": "code",
      "metadata": {
        "id": "UgYLZJmeIE7K",
        "colab_type": "code",
        "colab": {
          "base_uri": "https://localhost:8080/",
          "height": 1000
        },
        "outputId": "674ba096-8d65-4f6a-8700-766ce2dbffcd"
      },
      "source": [
        "import random\n",
        "import numpy as np\n",
        "\n",
        "nums = np.array(range(1, 1001))\n",
        "sales_figures = nums * np.random.rand(1000)\n",
        "sales_figures"
      ],
      "execution_count": 14,
      "outputs": [
        {
          "output_type": "execute_result",
          "data": {
            "text/plain": [
              "array([3.14440921e-01, 7.76822851e-01, 1.84427418e+00, 3.12244947e+00,\n",
              "       4.82956389e+00, 1.34833699e+00, 4.18646922e+00, 3.68138504e+00,\n",
              "       6.49616190e+00, 5.89542746e+00, 2.62590706e+00, 4.87051619e+00,\n",
              "       7.00750896e+00, 2.82994398e+00, 2.68855025e+00, 1.47012212e+01,\n",
              "       2.67853720e+00, 4.52369871e+00, 1.06898918e+01, 1.77217967e+01,\n",
              "       5.83255321e+00, 3.35764714e+00, 8.24987118e+00, 1.43574782e+01,\n",
              "       6.29765695e-01, 6.58837920e+00, 5.47305366e-01, 2.75276681e+01,\n",
              "       5.44970285e+00, 1.65548831e+01, 1.65077601e+01, 5.54925727e+00,\n",
              "       1.11511271e+01, 2.74123018e+01, 2.80182660e+00, 1.58552663e+01,\n",
              "       1.97637091e-01, 3.55385501e+01, 1.51006280e+01, 2.31085455e+01,\n",
              "       3.12983437e+01, 3.58953104e+01, 1.97019269e+01, 7.22237248e+00,\n",
              "       2.89784193e+00, 1.44933094e+01, 7.05738771e+00, 2.24486269e+00,\n",
              "       3.61934386e+01, 3.13454314e+01, 5.00856549e+01, 3.80904302e+00,\n",
              "       2.17143858e+01, 1.16453056e+01, 4.99473128e+01, 2.66099075e+01,\n",
              "       3.07526827e+01, 5.69898629e+01, 3.67620446e+01, 4.88671542e+01,\n",
              "       4.01918815e+01, 2.14575499e+01, 3.47526714e+01, 4.60106903e+00,\n",
              "       1.58185453e+01, 4.15797191e+01, 3.41541950e+01, 4.67912938e+00,\n",
              "       2.04855919e+00, 7.05433601e+00, 6.30685639e+01, 1.10913732e+01,\n",
              "       3.42433036e+01, 1.73839569e+01, 1.69236883e-01, 4.35507027e+00,\n",
              "       7.15672194e+01, 7.32259111e+01, 7.37994261e+01, 2.44270995e+01,\n",
              "       7.46624477e+01, 7.51170300e+01, 1.16917753e+01, 1.43614525e+00,\n",
              "       6.15695551e+00, 7.01968311e+00, 4.71570911e+01, 8.24218247e+01,\n",
              "       3.09746887e+01, 4.95012549e+01, 8.66094574e+01, 4.28969909e+00,\n",
              "       8.80297263e+01, 6.15889279e+01, 6.73472868e+01, 3.63417990e+01,\n",
              "       4.58637560e+01, 3.04244031e+01, 3.32858042e+01, 4.90021518e+01,\n",
              "       9.00130136e+00, 1.04771618e-01, 7.31294378e+01, 9.95024287e+01,\n",
              "       6.68422641e+01, 9.82501058e+01, 3.10510105e+01, 6.09413850e+01,\n",
              "       7.44398052e+01, 2.13263598e+01, 9.51673187e+01, 7.01992361e+01,\n",
              "       1.94005913e+01, 4.78630955e+00, 9.58379329e+01, 9.45886217e+01,\n",
              "       6.90633152e+01, 1.72297197e+00, 1.01313288e+02, 9.54529047e+01,\n",
              "       2.25872514e+01, 5.09345495e+01, 6.64495939e+01, 7.55465702e+01,\n",
              "       1.11623654e+02, 4.93306718e+01, 1.26221031e+02, 5.71463240e+01,\n",
              "       1.18760722e+02, 1.23950669e+02, 6.63543789e+01, 1.18966928e+02,\n",
              "       1.09503363e+02, 1.12269891e+02, 1.27229061e+02, 6.92087833e+01,\n",
              "       8.26250142e+01, 1.37511138e+02, 1.03252988e+02, 7.55738925e+00,\n",
              "       1.14057829e+02, 5.29825485e+01, 7.23502451e+01, 3.36372570e+01,\n",
              "       8.51447708e+01, 5.81618878e+01, 6.55023245e+01, 1.74178943e+01,\n",
              "       3.61827683e+01, 8.10962010e+01, 1.03026905e+02, 8.11501960e+01,\n",
              "       1.19777820e+02, 7.12048980e+00, 1.49600220e+02, 7.84374699e+01,\n",
              "       1.09176251e+02, 8.03664776e+01, 8.94417254e+01, 7.41133830e+01,\n",
              "       2.40928813e+01, 6.73362312e+01, 1.41115396e+02, 1.42700523e+02,\n",
              "       6.52408881e+01, 4.08007949e+01, 3.15802596e+01, 8.31300434e+00,\n",
              "       9.33080160e+01, 6.33686263e+01, 6.70756325e+00, 7.12054052e+01,\n",
              "       1.53951777e+02, 1.67431162e+02, 8.33419939e+01, 2.59940723e+01,\n",
              "       1.41465134e+02, 8.35574669e+01, 3.29106981e+00, 9.93890091e+01,\n",
              "       1.74526159e+02, 1.05918312e+02, 1.71724917e+02, 1.71763593e+02,\n",
              "       9.80707247e+01, 4.03603282e+01, 1.49087146e+02, 3.85711767e+01,\n",
              "       1.87566930e+02, 6.34273937e+01, 4.39598234e+01, 1.06076961e+02,\n",
              "       1.00186447e+02, 7.82426353e+01, 1.71801810e+02, 8.44254554e+01,\n",
              "       7.69345311e-02, 1.52255042e+02, 1.20957018e+02, 9.59396932e+01,\n",
              "       8.71939120e+01, 3.62254016e+01, 1.11125647e+02, 1.65241204e+02,\n",
              "       1.83710699e+02, 1.11522378e+02, 1.24084462e+02, 1.32147608e+02,\n",
              "       1.73927485e+01, 1.89416648e+02, 1.25159164e+02, 2.02029610e+02,\n",
              "       1.02128894e+02, 4.68334461e+01, 2.13398018e+02, 1.39589442e+02,\n",
              "       1.36227598e+02, 6.27709172e+01, 7.73886533e+01, 1.90508453e+02,\n",
              "       1.98990222e+02, 1.53728532e+02, 1.18849334e+02, 3.66850263e+01,\n",
              "       1.10554657e+02, 5.32759881e+01, 4.55905364e+01, 2.00836411e+02,\n",
              "       3.71406738e+01, 4.46371167e+01, 8.75691595e+01, 2.00579478e+02,\n",
              "       1.61288092e+02, 3.70042600e+01, 1.41195334e+02, 1.30113004e+02,\n",
              "       2.06839591e+02, 1.96568798e+02, 1.54543101e+02, 2.13767098e+02,\n",
              "       2.19165335e+02, 1.28776505e+02, 1.06507967e+02, 1.19549946e+02,\n",
              "       1.20502502e+02, 2.55322208e+01, 1.12055217e+02, 1.88346601e+02,\n",
              "       2.31472789e+02, 1.74439698e+01, 1.52023845e+02, 1.34262545e+02,\n",
              "       1.71070071e+02, 2.44203877e+02, 1.32147572e+02, 2.15562149e+01,\n",
              "       6.30912170e+01, 4.00152619e+01, 1.99861040e+02, 1.07038629e+02,\n",
              "       1.31911265e+02, 1.21441665e+02, 1.61826921e+02, 4.40123813e+01,\n",
              "       1.32200992e+02, 5.95158920e+01, 2.52053894e+02, 1.05627111e+02,\n",
              "       2.13249797e+02, 2.55620115e+02, 1.36054870e+02, 1.36480953e+02,\n",
              "       1.75330046e+02, 1.42348496e+02, 1.17971910e+02, 2.44525986e+02,\n",
              "       1.78014077e+02, 1.08597699e+02, 1.00524252e+02, 2.69856070e+02,\n",
              "       8.65336369e+01, 1.63739162e+02, 2.72457393e+02, 1.33734525e+02,\n",
              "       1.15206783e+01, 1.41585548e+02, 1.51020181e+02, 7.61749194e+01,\n",
              "       1.45147771e+02, 7.89210058e+00, 1.33954750e+02, 1.54424706e+02,\n",
              "       9.56365393e+01, 1.01259403e+02, 2.81417071e+02, 2.53171190e+02,\n",
              "       1.53048734e+02, 2.90911201e+01, 1.74280579e+02, 3.45295318e+01,\n",
              "       2.05678583e+02, 2.54889508e+02, 1.84830884e+02, 2.65230297e+02,\n",
              "       2.44526498e+02, 5.85507497e+01, 2.47966201e+02, 2.79472539e+02,\n",
              "       5.76166046e+01, 2.53906577e+02, 8.31938596e+01, 1.64692001e+01,\n",
              "       1.72824524e+01, 2.32312927e+02, 1.49335378e+02, 6.05397819e+01,\n",
              "       1.40262142e+02, 6.87859185e+01, 1.84748731e+02, 9.72166730e+00,\n",
              "       2.76723518e+02, 2.65385151e+02, 1.61585338e+02, 2.60063963e+02,\n",
              "       3.02675767e+02, 1.11335347e+02, 3.02921845e+02, 2.02331132e+02,\n",
              "       1.06457714e+02, 9.40820480e+01, 9.44460269e+01, 8.94372689e+01,\n",
              "       6.15491837e+00, 2.60568920e+02, 6.14051422e+01, 2.27466994e+02,\n",
              "       9.51753105e+01, 1.04693370e+02, 3.28175120e+02, 2.18539452e+02,\n",
              "       6.59249183e+01, 3.29520160e+02, 1.37182766e+02, 2.35891075e+02,\n",
              "       1.55293737e+02, 7.20788312e+01, 1.39738671e+01, 2.20069174e+02,\n",
              "       1.08532024e+02, 6.38947233e+01, 2.08192821e+02, 1.19781172e+02,\n",
              "       2.37906630e+02, 1.70634927e+02, 2.54422377e+02, 1.63534113e+02,\n",
              "       2.23091228e+02, 1.41561268e+02, 2.51473211e+02, 3.45604223e+02,\n",
              "       1.40088407e+02, 1.67127437e+02, 6.23366331e+01, 3.59421593e+02,\n",
              "       2.40872343e+02, 1.41000760e+02, 1.06152195e+02, 2.20315166e+02,\n",
              "       3.35570431e+02, 6.01025940e+01, 2.35421097e+02, 3.12480646e+02,\n",
              "       1.14041509e+02, 2.02703854e+02, 3.04676491e+02, 2.16115299e+01,\n",
              "       1.80581805e+02, 5.99222883e+01, 9.26639242e+01, 3.48914493e+02,\n",
              "       2.26023902e+02, 1.12771406e+02, 3.08876682e+02, 3.40556427e+01,\n",
              "       1.99213943e+02, 4.89867677e+01, 3.66141408e+02, 2.86296454e+02,\n",
              "       2.39586740e+02, 2.61093608e+01, 1.20627784e+02, 2.23267624e+02,\n",
              "       1.02201963e+02, 2.29433130e+02, 1.95016907e+02, 3.45556184e+02,\n",
              "       3.04731457e+02, 3.85302298e+02, 3.22404261e+02, 1.97613875e+02,\n",
              "       1.74560828e+02, 2.28500704e+02, 3.14800970e+02, 1.45911139e+02,\n",
              "       3.34503522e+02, 6.96447784e+01, 3.20937642e+02, 2.47528550e+02,\n",
              "       4.01673202e+02, 3.45163157e+02, 2.44042539e+01, 1.26025100e+02,\n",
              "       3.33007899e+02, 1.19183234e+02, 3.85271078e+02, 2.86675907e+02,\n",
              "       2.96600671e+02, 1.93796319e+02, 2.21064995e+02, 3.25352568e+02,\n",
              "       4.70075461e+01, 4.55051957e+01, 2.38583656e+02, 2.16433740e+02,\n",
              "       4.01110553e+02, 1.65002615e+02, 1.73629419e+02, 2.66052224e+02,\n",
              "       9.34792256e+01, 2.62198301e+02, 2.09328307e+02, 3.61282470e+02,\n",
              "       1.33293058e+01, 3.74727480e+02, 1.37977256e+02, 1.64355554e+02,\n",
              "       1.74018517e+02, 1.61801276e+02, 3.36220396e+02, 4.33286824e+02,\n",
              "       2.13785687e+01, 1.66376624e+01, 2.61454653e+02, 3.07084410e+02,\n",
              "       3.10898034e+02, 7.17120216e+00, 4.00926844e+01, 4.01115494e+02,\n",
              "       3.24861301e+01, 4.30343946e+02, 3.33826025e+02, 4.43029915e+02,\n",
              "       4.52289492e+01, 2.13213180e+02, 3.93610164e+02, 1.12157552e+02,\n",
              "       7.85836311e-01, 2.35656328e+02, 1.37785258e+02, 3.36106565e+01,\n",
              "       2.71526121e+02, 3.83852679e+02, 4.39266450e+02, 2.73004502e+02,\n",
              "       3.55956511e+01, 5.20948943e+01, 3.01459756e+02, 2.67118442e+02,\n",
              "       2.06421308e+02, 4.44527704e+02, 4.12529517e+02, 3.39069915e+02,\n",
              "       4.32280253e+02, 2.91486135e+02, 2.30263408e+02, 4.54863487e+02,\n",
              "       2.71166731e+01, 6.47049066e+01, 7.47402512e+01, 4.77155478e+02,\n",
              "       2.75613335e+02, 1.49856304e+02, 3.03597680e+01, 1.77120592e+02,\n",
              "       1.05930738e+02, 1.20231246e+02, 1.93265611e+02, 3.89908273e+02,\n",
              "       4.12502668e+02, 2.81881309e+02, 1.75945725e+02, 3.49048007e+01,\n",
              "       1.65218426e+02, 8.51808340e+01, 3.82332606e+02, 4.29350842e+02,\n",
              "       4.04437771e+02, 2.34086862e+02, 1.95613236e+02, 1.21717382e+01,\n",
              "       3.97677271e+02, 5.16210101e+01, 1.71530194e+02, 3.62225393e+02,\n",
              "       1.76153115e+02, 1.72371333e+02, 2.62290354e+02, 1.18963661e+02,\n",
              "       3.06210611e+02, 2.95703573e+02, 2.29054991e+02, 5.10674709e+02,\n",
              "       3.22883768e+02, 1.51831450e+02, 3.94214898e+02, 2.28444657e+02,\n",
              "       2.64879682e+02, 3.73759360e+02, 2.07060504e+02, 4.18424044e+02,\n",
              "       2.55672725e+02, 2.42988431e+02, 3.82872120e+02, 4.08892837e+01,\n",
              "       8.85866166e+01, 4.84277611e+02, 2.71910415e+02, 1.03060406e+02,\n",
              "       5.10961499e+02, 7.02652118e+01, 1.16081898e+02, 1.78357379e+01,\n",
              "       1.01285448e+02, 4.76451562e+02, 1.80774390e+02, 5.22283963e+02,\n",
              "       4.95185344e+02, 2.47793012e+02, 1.16421002e+02, 3.01513757e+02,\n",
              "       1.56568506e+02, 4.33053080e+02, 1.87363537e+02, 4.87100703e+02,\n",
              "       1.39703625e+02, 4.47728332e+02, 3.78723893e+02, 4.88430087e+02,\n",
              "       3.31476828e+02, 6.93396501e+01, 7.01546955e+01, 1.23134646e+02,\n",
              "       1.13151026e+02, 2.88516131e+02, 1.88441575e+02, 4.41782410e+02,\n",
              "       4.11753380e+02, 6.99060949e+01, 2.28037069e+01, 3.00024007e+01,\n",
              "       3.71315926e+02, 3.62761861e+01, 3.72248990e+01, 4.41344553e+02,\n",
              "       4.41932696e+02, 4.42434695e+02, 5.60513735e+02, 4.84491485e+02,\n",
              "       4.35210818e+02, 4.21658201e+02, 6.67708440e+01, 2.32203854e+01,\n",
              "       5.41379612e+02, 4.63269319e+02, 2.06727582e+02, 2.16670664e+02,\n",
              "       2.88349665e+02, 4.66591142e+02, 3.08737128e+02, 2.33504110e+02,\n",
              "       1.77688948e+01, 4.16694154e+02, 4.11474272e+02, 1.75040807e+02,\n",
              "       3.33375813e+02, 3.73956611e+02, 5.13797506e+02, 1.21464727e+01,\n",
              "       2.71885241e+02, 1.35965742e+02, 2.40743441e+02, 8.99318642e+00,\n",
              "       1.73894547e+02, 5.58650788e+02, 5.41860303e+02, 4.02164044e+02,\n",
              "       3.00208728e+02, 4.77156332e+02, 3.89933797e+01, 5.88821993e+02,\n",
              "       4.15504702e+02, 4.81827851e+02, 4.72732128e+02, 3.79814043e+02,\n",
              "       6.98660630e+01, 1.23286959e+02, 1.52248334e+02, 3.37138828e+01,\n",
              "       1.18821954e+02, 3.71650380e+02, 2.25867947e+02, 7.26995557e+01,\n",
              "       2.21049701e+02, 4.44131694e+02, 1.30129453e+02, 5.42855586e+02,\n",
              "       3.26720486e+02, 1.70221708e+02, 4.75484570e+02, 5.07172674e+02,\n",
              "       2.07897397e+02, 8.59189484e+01, 3.42239291e+01, 5.18024912e+02,\n",
              "       4.66518737e+02, 2.35173958e+01, 1.89154410e+02, 2.04492168e+02,\n",
              "       4.74485836e+02, 2.72592696e+02, 3.01647377e+02, 8.30404441e+01,\n",
              "       3.46524602e+02, 3.60215477e+01, 2.45267265e+02, 6.16585049e+02,\n",
              "       3.70622643e+02, 5.43297115e+02, 4.06950342e+02, 6.03138153e+02,\n",
              "       1.47634388e+02, 1.01578327e+02, 4.88078993e+02, 1.06929785e+02,\n",
              "       1.62208035e+02, 2.58600706e+02, 2.38667095e+01, 3.25178650e+01,\n",
              "       4.05610154e+01, 3.09945466e+02, 2.89553016e+02, 3.82792869e+02,\n",
              "       1.89594282e+02, 3.96810640e+02, 5.36784741e+02, 3.56377546e+02,\n",
              "       5.01051540e+01, 3.70161780e+02, 5.25088965e+02, 5.29356585e+02,\n",
              "       1.53605951e+02, 1.81467849e+02, 6.32287927e+02, 4.54952627e+02,\n",
              "       7.06275078e+01, 2.75346519e+02, 3.77817243e+01, 7.11571358e+01,\n",
              "       6.03524695e+02, 3.32956340e+02, 1.21492637e+02, 6.61594535e+01,\n",
              "       2.74330463e+02, 3.87806342e+02, 3.62248269e+02, 3.04325609e+02,\n",
              "       3.85814335e+02, 5.96810292e+02, 1.45925734e+02, 6.24695141e+02,\n",
              "       2.41845231e+02, 5.18930304e+02, 2.64204664e+02, 1.48044481e+02,\n",
              "       5.56321658e+02, 3.56835369e+02, 1.88331465e+00, 3.16039419e+02,\n",
              "       1.89438722e+01, 1.83334126e+02, 6.59494643e+02, 1.04948772e+02,\n",
              "       4.79620522e+02, 6.72717216e+02, 6.48453583e+02, 6.18155821e+02,\n",
              "       6.12465581e+02, 4.36920191e+02, 7.69898177e+01, 4.25684273e+02,\n",
              "       6.59344433e+02, 5.39395095e+02, 3.22094240e+02, 3.13897586e+02,\n",
              "       4.59776433e+02, 5.08407818e+02, 5.28499185e+02, 4.06156997e+02,\n",
              "       4.67900439e+02, 4.23675961e+02, 1.33675327e+02, 2.41010249e+02,\n",
              "       6.89768548e+02, 1.09514134e+01, 2.09615200e+02, 6.11703750e+02,\n",
              "       6.19826774e+02, 1.02980851e+02, 5.68417374e+02, 4.76885314e+02,\n",
              "       2.41460138e+02, 1.98389614e+02, 1.51013472e+02, 1.95388504e+02,\n",
              "       2.70707835e+02, 2.91867402e+02, 5.78596616e+02, 7.13583389e+02,\n",
              "       5.48475530e+02, 4.22145938e+02, 4.98663857e+01, 3.23126525e+02,\n",
              "       9.74835838e+01, 3.97111562e+02, 3.54320279e+02, 3.36438450e+02,\n",
              "       1.63006026e+02, 1.32086335e+02, 4.22324577e+02, 6.30036917e+02,\n",
              "       4.80975558e+02, 4.10666461e+02, 4.82371379e+01, 6.44245951e+02,\n",
              "       6.83305402e+02, 5.91389465e+02, 1.89425809e+02, 2.73871473e+02,\n",
              "       4.25213974e+02, 1.98290312e+02, 5.23393658e+02, 4.88284695e+02,\n",
              "       6.83674591e+02, 1.82373690e+02, 5.96742776e+02, 5.35287897e+02,\n",
              "       6.12820573e+01, 1.14435553e+02, 6.33506935e+02, 5.42338648e+02,\n",
              "       2.71374179e+02, 2.07824142e+02, 4.49824339e+02, 4.47792893e+02,\n",
              "       3.25638149e+02, 3.73489763e+02, 2.04670995e+02, 6.65564562e+02,\n",
              "       5.45766629e+02, 7.28891724e+02, 4.73224153e+02, 7.16444401e+01,\n",
              "       7.67624574e+02, 5.63862892e+02, 4.72916673e+02, 7.38585722e+02,\n",
              "       5.67436520e+02, 3.67340883e+02, 2.92195203e+02, 2.15540837e+02,\n",
              "       6.62633696e+01, 2.76423733e+02, 1.19668706e+02, 4.05613268e+02,\n",
              "       2.00975723e+02, 5.89036536e+02, 3.96263506e+02, 7.40673485e+02,\n",
              "       5.78030373e+02, 6.18502618e+02, 4.27104200e+02, 5.94947621e+02,\n",
              "       6.77841991e+02, 6.28665654e+02, 2.45341187e+02, 4.85517407e+02,\n",
              "       2.64112259e+01, 2.42979395e+01, 3.04708323e+02, 7.17105623e+02,\n",
              "       1.96904734e+02, 3.57821103e+02, 2.65838399e+01, 1.42319597e+02,\n",
              "       4.89910167e+02, 5.73584067e+02, 6.58191520e+02, 5.61315613e+02,\n",
              "       7.68185056e+02, 2.23590336e+02, 4.05064664e+01, 4.00562148e+02,\n",
              "       5.39557365e+01, 3.02431488e+02, 6.67867957e+02, 5.72967540e+02,\n",
              "       3.06106998e+02, 4.06025427e+02, 3.56388210e+02, 4.19388898e+02,\n",
              "       1.83137794e+02, 2.63169587e+02, 1.91796215e+02, 5.65558829e+02,\n",
              "       9.60978997e+01, 7.20955595e+02, 3.55222893e+02, 4.44678032e+02,\n",
              "       3.68632300e+02, 3.59036116e+02, 4.84263731e+02, 8.73415260e+01,\n",
              "       8.07651955e+02, 3.80191861e+02, 8.20039273e+02, 1.58438746e+02,\n",
              "       2.59267160e+02, 1.47576881e+02, 4.91728365e+02, 8.33116588e+02,\n",
              "       6.31178166e+01, 8.25948755e+02, 7.86222845e+02, 7.92058312e+02,\n",
              "       1.25669324e+02, 2.85528714e+02, 3.86217455e+02, 4.79997649e+02,\n",
              "       5.99906982e+02, 8.22163364e+02, 4.73843617e+02, 5.36396406e+01,\n",
              "       8.48145919e+02, 6.04190122e+02, 4.59773385e+02, 8.51388803e+02,\n",
              "       7.84526682e+02, 1.63706593e+02, 6.22287751e+02, 4.12078381e+02,\n",
              "       2.56950610e+02, 6.11866065e+02, 6.81630543e+02, 8.03974535e+02,\n",
              "       3.93119048e+02, 7.78338927e+02, 6.12056754e+02, 7.85308934e+02,\n",
              "       1.57519135e+02, 2.20486198e+02, 8.47784257e+02, 7.94245557e+02,\n",
              "       1.07609745e+02, 5.45784950e+02, 6.35691790e+02, 3.85750396e+02,\n",
              "       3.35664704e+02, 8.01784081e+02, 5.18658230e+02, 3.57293335e+02,\n",
              "       1.75444053e+02, 4.10008738e+02, 5.43348519e+02, 8.16899513e+02,\n",
              "       7.53824614e+02, 6.12288973e+02, 1.10531156e+02, 5.85797554e+02,\n",
              "       1.92719214e+02, 4.18246805e+02, 3.16587431e+02, 8.70509157e+02,\n",
              "       4.92403862e+02, 1.64670600e+02, 5.67512307e+02, 3.37938713e+02,\n",
              "       8.20703254e+02, 2.62381836e+02, 1.41562701e+02, 5.66444110e+02,\n",
              "       5.88615220e+01, 6.84832184e+02, 5.98672961e+02, 7.67578413e+02,\n",
              "       6.39395486e+02, 4.95227667e+02, 6.31639600e+02, 4.25083912e+02,\n",
              "       4.42571922e+02, 2.07370819e+02, 1.66351907e+02, 1.30868235e+02,\n",
              "       1.77470470e+02, 3.70584636e+02, 8.83119873e+02, 4.14222732e+02,\n",
              "       3.69105441e+02, 8.86264343e+02, 8.92160341e+02, 4.62781934e+02,\n",
              "       3.83188342e+02, 1.05603893e+02, 7.33400569e+02, 6.77155250e+02,\n",
              "       3.64930652e+02, 3.57844438e+02, 1.89144750e+02, 1.34758486e+02,\n",
              "       6.60983799e+02, 9.03100764e+01, 6.09914576e+02, 2.15210297e+02,\n",
              "       2.81780644e+02, 2.23384932e+02, 5.18721554e+02, 4.55142802e+02,\n",
              "       4.18756515e+02, 1.21729870e+02, 2.20691878e+02, 1.59861193e+02,\n",
              "       6.07735087e+02, 4.38759866e+02, 3.53466176e+02, 3.55259032e+02,\n",
              "       8.48861611e+02, 1.92618112e+01, 2.76587664e+02, 5.64625191e+02,\n",
              "       7.71863714e+02, 5.23107273e+02, 6.58328928e+02, 7.25803543e+02,\n",
              "       5.07956345e+02, 2.86877960e+02, 1.70285778e+02, 8.87892583e+02,\n",
              "       8.14783889e+02, 3.09780933e+02, 8.28411572e+02, 7.56544109e+01,\n",
              "       2.18799017e+02, 8.01419549e+02, 2.05736355e+02, 6.09946352e+02,\n",
              "       8.65520712e+02, 1.96983884e+02, 6.71840983e+02, 9.93813864e+01,\n",
              "       9.05598433e+02, 2.70891605e+02, 2.04024679e+02, 2.40855690e+02,\n",
              "       3.49315703e+02, 4.61716048e+02, 2.01612476e+02, 7.76660640e+02,\n",
              "       4.18127247e+02, 5.76730697e+02, 6.70516609e+02, 3.28735966e+02,\n",
              "       1.15640788e+01, 4.38141523e+02, 6.12671411e+02, 6.11496530e+02,\n",
              "       1.96956212e+02, 8.56227966e+02, 8.68867840e+02, 4.38150339e+02,\n",
              "       2.19654608e+01, 3.16740589e+02, 5.64992104e-01, 4.16316417e+02,\n",
              "       9.55469712e+02, 5.66082288e+02, 3.45677659e+02, 5.34879226e+02,\n",
              "       3.11309766e+02, 3.49109175e+02, 4.66528989e+02, 2.70906436e+02])"
            ]
          },
          "metadata": {
            "tags": []
          },
          "execution_count": 14
        }
      ]
    },
    {
      "cell_type": "markdown",
      "metadata": {
        "id": "jySwzfY_IE7M",
        "colab_type": "text"
      },
      "source": [
        "We now have sales prices for 1000 items currently for sale at BuyStuff. Now create an RDD called `price_items` using the newly created data with 10 slices. After you create it, use one of the basic actions to see what's in the RDD."
      ]
    },
    {
      "cell_type": "code",
      "metadata": {
        "id": "8004zK0iIE7N",
        "colab_type": "code",
        "colab": {
          "base_uri": "https://localhost:8080/",
          "height": 102
        },
        "outputId": "d9979250-01d6-4b4c-c25d-cd1665f6651d"
      },
      "source": [
        "price_items = sc.parallelize(sales_figures, numSlices=10)\n",
        "price_items.take(5)"
      ],
      "execution_count": 15,
      "outputs": [
        {
          "output_type": "execute_result",
          "data": {
            "text/plain": [
              "[0.3144409213184508,\n",
              " 0.7768228510148258,\n",
              " 1.844274182291589,\n",
              " 3.122449471369494,\n",
              " 4.829563893779002]"
            ]
          },
          "metadata": {
            "tags": []
          },
          "execution_count": 15
        }
      ]
    },
    {
      "cell_type": "markdown",
      "metadata": {
        "id": "2Iy5XCYYIE7P",
        "colab_type": "text"
      },
      "source": [
        "Now let's perform some operations on this simple dataset. To begin with, create a function that will take into account how much money BuyStuff will receive after sales tax has been applied (assume a sales tax of 8%). To make this happen, create a function called `sales_tax()` that returns the amount of money our company will receive after the sales tax has been applied. The function will have this parameter:\n",
        "\n",
        "* `item`: (float) number to be multiplied by the sales tax.\n",
        "\n",
        "\n",
        "Apply that function to the rdd by using the `.map()` method and assign it to a variable `renenue_minus_tax`"
      ]
    },
    {
      "cell_type": "code",
      "metadata": {
        "id": "HazBKjmIIE7P",
        "colab_type": "code",
        "colab": {}
      },
      "source": [
        "def sales_tax(num):\n",
        "    return num * 0.92\n",
        "\n",
        "revenue_minus_tax = price_items.map(sales_tax)"
      ],
      "execution_count": 0,
      "outputs": []
    },
    {
      "cell_type": "markdown",
      "metadata": {
        "id": "J5lp1rl-IE7R",
        "colab_type": "text"
      },
      "source": [
        "Remember, Spark has __lazy evaluation__, which means that the `sales_tax()` function is a transformer that is not executed until you call an action. Use one of the collection methods to execute the transformer now a part of the RDD and observe the contents of the `revenue_minus_tax` rdd."
      ]
    },
    {
      "cell_type": "code",
      "metadata": {
        "scrolled": true,
        "id": "m94taCpWIE7R",
        "colab_type": "code",
        "colab": {
          "base_uri": "https://localhost:8080/",
          "height": 187
        },
        "outputId": "5283f7bb-ae54-4542-8811-67ea54c9f951"
      },
      "source": [
        "# perform action to retrieve rdd values\n",
        "revenue_minus_tax.take(10)"
      ],
      "execution_count": 17,
      "outputs": [
        {
          "output_type": "execute_result",
          "data": {
            "text/plain": [
              "[0.28928564761297476,\n",
              " 0.7146770229336398,\n",
              " 1.6967322477082618,\n",
              " 2.8726535136599347,\n",
              " 4.443198782276682,\n",
              " 1.2404700271246216,\n",
              " 3.8515516859310015,\n",
              " 3.3868742322361176,\n",
              " 5.9764689465355065,\n",
              " 5.423793262062068]"
            ]
          },
          "metadata": {
            "tags": []
          },
          "execution_count": 17
        }
      ]
    },
    {
      "cell_type": "markdown",
      "metadata": {
        "id": "3sFjUF4cIE7T",
        "colab_type": "text"
      },
      "source": [
        "### Lambda Functions\n",
        "\n",
        "Note that you can also use lambda functions if you want to quickly perform simple operations on data without creating a function. Let's assume that BuyStuff has also decided to offer a 10% discount on all of their items on the pre-tax amounts of each item. Use a lambda function within a `.map()` method to apply the additional 10% loss in revenue for BuyStuff and assign the transformed RDD to a new RDD called `discounted`."
      ]
    },
    {
      "cell_type": "code",
      "metadata": {
        "id": "xUSV5OLxIE7U",
        "colab_type": "code",
        "colab": {}
      },
      "source": [
        "discounted = revenue_minus_tax.map(lambda x: x*0.9)"
      ],
      "execution_count": 0,
      "outputs": []
    },
    {
      "cell_type": "code",
      "metadata": {
        "scrolled": true,
        "id": "WAMto9CuIE7W",
        "colab_type": "code",
        "colab": {
          "base_uri": "https://localhost:8080/",
          "height": 187
        },
        "outputId": "6f1c4a77-489e-4bfc-ceae-c8f4a4b01af2"
      },
      "source": [
        "discounted.take(10)"
      ],
      "execution_count": 19,
      "outputs": [
        {
          "output_type": "execute_result",
          "data": {
            "text/plain": [
              "[0.2603570828516773,\n",
              " 0.6432093206402758,\n",
              " 1.5270590229374357,\n",
              " 2.5853881622939414,\n",
              " 3.9988789040490142,\n",
              " 1.1164230244121596,\n",
              " 3.4663965173379014,\n",
              " 3.0481868090125057,\n",
              " 5.378822051881956,\n",
              " 4.8814139358558615]"
            ]
          },
          "metadata": {
            "tags": []
          },
          "execution_count": 19
        }
      ]
    },
    {
      "cell_type": "markdown",
      "metadata": {
        "id": "FpKRnqg_IE7Y",
        "colab_type": "text"
      },
      "source": [
        "## Chaining Methods\n",
        "\n",
        "You are also able to chain methods together with Spark. In one line, remove the tax and discount from the revenue of BuyStuff and use a collection method to see the 15 costliest items."
      ]
    },
    {
      "cell_type": "code",
      "metadata": {
        "scrolled": true,
        "id": "eQlCQrikIE7Z",
        "colab_type": "code",
        "colab": {
          "base_uri": "https://localhost:8080/",
          "height": 272
        },
        "outputId": "089a93d1-c81b-4983-9213-59860e07e6ba"
      },
      "source": [
        "price_items.map(sales_tax).map(lambda x : x*0.9).top(15)"
      ],
      "execution_count": 20,
      "outputs": [
        {
          "output_type": "execute_result",
          "data": {
            "text/plain": [
              "[791.1289211688274,\n",
              " 749.835502270556,\n",
              " 738.7087622945373,\n",
              " 735.1750587149869,\n",
              " 733.8268760808336,\n",
              " 731.2232547218744,\n",
              " 720.7815821621178,\n",
              " 719.4225715862655,\n",
              " 716.6511494124562,\n",
              " 708.9567557897885,\n",
              " 704.9499286996534,\n",
              " 702.8574139580586,\n",
              " 702.2648212914446,\n",
              " 701.9653645566381,\n",
              " 689.8205352597582]"
            ]
          },
          "metadata": {
            "tags": []
          },
          "execution_count": 20
        }
      ]
    },
    {
      "cell_type": "markdown",
      "metadata": {
        "id": "VYOW8_0-IE7b",
        "colab_type": "text"
      },
      "source": [
        "## RDD Lineage\n",
        "\n",
        "\n",
        "We are able to see the full lineage of all the operations that have been performed on an RDD by using the `RDD.toDebugString()` method. As your transformations become more complex, you are encouraged to call this method to get a better understanding of the dependencies between RDDs. Try calling it on the `discounted` RDD to see what RDDs it is dependent on."
      ]
    },
    {
      "cell_type": "code",
      "metadata": {
        "id": "5E3x3TRKIE7b",
        "colab_type": "code",
        "colab": {
          "base_uri": "https://localhost:8080/",
          "height": 34
        },
        "outputId": "49904e0b-08c1-4f37-8eb8-d94c6bb441ff"
      },
      "source": [
        "discounted.toDebugString()"
      ],
      "execution_count": 21,
      "outputs": [
        {
          "output_type": "execute_result",
          "data": {
            "text/plain": [
              "b'(10) PythonRDD[10] at RDD at PythonRDD.scala:53 []\\n |   ParallelCollectionRDD[5] at parallelize at PythonRDD.scala:195 []'"
            ]
          },
          "metadata": {
            "tags": []
          },
          "execution_count": 21
        }
      ]
    },
    {
      "cell_type": "markdown",
      "metadata": {
        "id": "CVS1jEKYIE7d",
        "colab_type": "text"
      },
      "source": [
        "### Map vs. Flatmap\n",
        "\n",
        "Depending on how you want your data to be outputted, you might want to use `.flatMap()` rather than a simple `.map()`. Let's take a look at how it performs operations versus the standard map. Let's say we wanted to maintain the original amount BuyStuff receives for each item as well as the new amount after the tax and discount are applied. Create a map function that will return a tuple with (original price, post-discount price)."
      ]
    },
    {
      "cell_type": "code",
      "metadata": {
        "id": "vJCS9HZ3IE7d",
        "colab_type": "code",
        "colab": {
          "base_uri": "https://localhost:8080/",
          "height": 71
        },
        "outputId": "d76d3539-b128-49f2-ea13-28b322368816"
      },
      "source": [
        "mapped = price_items.map(lambda x: (x, x*0.92 *0.9))\n",
        "print(mapped.count())\n",
        "print(mapped.take(10))"
      ],
      "execution_count": 22,
      "outputs": [
        {
          "output_type": "stream",
          "text": [
            "1000\n",
            "[(0.3144409213184508, 0.2603570828516773), (0.7768228510148258, 0.6432093206402758), (1.844274182291589, 1.5270590229374357), (3.122449471369494, 2.5853881622939414), (4.829563893779002, 3.9988789040490142), (1.3483369860050234, 1.1164230244121596), (4.186469223838045, 3.4663965173379014), (3.6813850350392583, 3.0481868090125057), (6.496161898408159, 5.378822051881956), (5.895427458763117, 4.8814139358558615)]\n"
          ],
          "name": "stdout"
        }
      ]
    },
    {
      "cell_type": "markdown",
      "metadata": {
        "id": "wjxyOxTAIE7f",
        "colab_type": "text"
      },
      "source": [
        "Note that we have 1000 tuples created to our specification. Let's take a look at how `.flatMap()` differs in its implementation. Use the `.flatMap()` method with the same function you created above."
      ]
    },
    {
      "cell_type": "code",
      "metadata": {
        "id": "7L9Sk-2tIE7f",
        "colab_type": "code",
        "colab": {
          "base_uri": "https://localhost:8080/",
          "height": 51
        },
        "outputId": "2cb6da75-e1f6-4aa8-e833-8dbf623f8e71"
      },
      "source": [
        "flat_mapped = price_items.flatMap(lambda x: (x, x*0.92 *0.9))\n",
        "print(flat_mapped.count())\n",
        "print(flat_mapped.take(10))"
      ],
      "execution_count": 23,
      "outputs": [
        {
          "output_type": "stream",
          "text": [
            "2000\n",
            "[0.3144409213184508, 0.2603570828516773, 0.7768228510148258, 0.6432093206402758, 1.844274182291589, 1.5270590229374357, 3.122449471369494, 2.5853881622939414, 4.829563893779002, 3.9988789040490142]\n"
          ],
          "name": "stdout"
        }
      ]
    },
    {
      "cell_type": "markdown",
      "metadata": {
        "id": "7Bpa4uO5IE7h",
        "colab_type": "text"
      },
      "source": [
        "Rather than being represented by tuples, all of the  values are now on the same level. When we are trying to combine different items together, it is sometimes necessary to use `.flatMap()` rather than `.map()` in order to properly reduce to our specifications. This is not one of those instances, but in the upcoming lab, you just might have to use it."
      ]
    },
    {
      "cell_type": "markdown",
      "metadata": {
        "id": "J7L_AeavIE7i",
        "colab_type": "text"
      },
      "source": [
        "## Filter\n",
        "After meeting with some external consultants, BuyStuff has determined that its business will be more profitable if it focuses on higher ticket items. Now, use the `.filter()` method to select items that bring in more than $300 after tax and discount have been removed. A filter method is a specialized form of a map function that only returns the items that match a certain criterion. In the cell below:\n",
        "* use a lambda function within a `.filter()` method to meet the consultant's suggestion's specifications. set `RDD = selected_items`\n",
        "* calculate the total number of items remaining in BuyStuff's inventory"
      ]
    },
    {
      "cell_type": "code",
      "metadata": {
        "id": "dn4tDuTBIE7i",
        "colab_type": "code",
        "colab": {
          "base_uri": "https://localhost:8080/",
          "height": 34
        },
        "outputId": "1d589e2d-ad75-4007-8d7f-17f2d72cbcb6"
      },
      "source": [
        "# use the filter function\n",
        "selected_items = discounted.filter(lambda x: x > 300)\n",
        "\n",
        "# calculate total remaining in inventory \n",
        "selected_items.count()"
      ],
      "execution_count": 24,
      "outputs": [
        {
          "output_type": "execute_result",
          "data": {
            "text/plain": [
              "278"
            ]
          },
          "metadata": {
            "tags": []
          },
          "execution_count": 24
        }
      ]
    },
    {
      "cell_type": "markdown",
      "metadata": {
        "id": "aYzV5qnKIE7k",
        "colab_type": "text"
      },
      "source": [
        "## Reduce\n",
        "\n",
        "Reduce functions are where you are in some way combing all of the variables that you have mapped out. Here is an example of how a reduce function works when the task is to sum all values:\n",
        "\n",
        "<img src = \"./images/reduce_function.png\" width = \"600\">  \n",
        "\n",
        "\n",
        "As you can see, the operation is performed within each partition first, after which, the results of the computations in each partition are combined to come up with one final answer.  \n",
        "\n",
        "Now it's time to figure out how much money BuyStuff would make from selling one of all of its items after they've reduced their inventory. Use the `.reduce()` method with a lambda function to add up all of the values in the RDD. Your lambda function should have two variables. "
      ]
    },
    {
      "cell_type": "code",
      "metadata": {
        "id": "NVYo_GCIIE7l",
        "colab_type": "code",
        "colab": {
          "base_uri": "https://localhost:8080/",
          "height": 34
        },
        "outputId": "a9a369bc-da0e-403c-ed30-15fddb35f5d7"
      },
      "source": [
        "selected_items.reduce(lambda x,y: x + y)"
      ],
      "execution_count": 25,
      "outputs": [
        {
          "output_type": "execute_result",
          "data": {
            "text/plain": [
              "126501.77540399716"
            ]
          },
          "metadata": {
            "tags": []
          },
          "execution_count": 25
        }
      ]
    },
    {
      "cell_type": "markdown",
      "metadata": {
        "id": "BgemKmEDIE7n",
        "colab_type": "text"
      },
      "source": [
        "The time has come for BuyStuff to open up shop and start selling its goods. It only has one of each item, but it's allowing 50 lucky users to buy as many items as they want while they remain in stock. Within seconds, BuyStuff is sold out. Below, you'll find the sales data in an RDD with tuples of (user, item bought)."
      ]
    },
    {
      "cell_type": "code",
      "metadata": {
        "id": "SDnJS4A5IE7o",
        "colab_type": "code",
        "colab": {
          "base_uri": "https://localhost:8080/",
          "height": 136
        },
        "outputId": "5efa8fc3-c515-4272-be5e-3bd9727eff53"
      },
      "source": [
        "import random\n",
        "random.seed(42)\n",
        "# generating simulated users that have bought each item\n",
        "sales_data = selected_items.map(lambda x: (random.randint(1, 50), x))\n",
        "\n",
        "sales_data.take(7)"
      ],
      "execution_count": 26,
      "outputs": [
        {
          "output_type": "execute_result",
          "data": {
            "text/plain": [
              "[(14, 303.1650854222643),\n",
              " (10, 319.0303027039256),\n",
              " (14, 332.58541132595974),\n",
              " (10, 319.00445256792455),\n",
              " (33, 332.1195381908729),\n",
              " (14, 310.2743537803713),\n",
              " (27, 358.76149040961513)]"
            ]
          },
          "metadata": {
            "tags": []
          },
          "execution_count": 26
        }
      ]
    },
    {
      "cell_type": "markdown",
      "metadata": {
        "id": "28B3EJT3IE7p",
        "colab_type": "text"
      },
      "source": [
        "It's time to determine some basic statistics about BuyStuff users.\n",
        "\n",
        "Let's start off by creating an RDD that determines how much each user spent in total.\n",
        "To do this we can use a method called `.reduceByKey()` to perform reducing operations while grouping by keys. After you have calculated the total, use the `.sortBy()` method on the RDD to rank the users from the highest spending to the least spending. "
      ]
    },
    {
      "cell_type": "code",
      "metadata": {
        "id": "YzcPXRq9IE7q",
        "colab_type": "code",
        "colab": {
          "base_uri": "https://localhost:8080/",
          "height": 102
        },
        "outputId": "d5713540-e9bd-407b-8094-22acb3bfacd7"
      },
      "source": [
        "# calculate how much each user spent\n",
        "total_spent = sales_data.reduceByKey(lambda x,y: x+y)\n",
        "total_spent.take(5)"
      ],
      "execution_count": 27,
      "outputs": [
        {
          "output_type": "execute_result",
          "data": {
            "text/plain": [
              "[(10, 2871.56857274321),\n",
              " (50, 3799.3406594613216),\n",
              " (40, 4995.921313783161),\n",
              " (30, 2628.870502317258),\n",
              " (41, 3827.491382409101)]"
            ]
          },
          "metadata": {
            "tags": []
          },
          "execution_count": 27
        }
      ]
    },
    {
      "cell_type": "code",
      "metadata": {
        "id": "oqKuV_rxIE7r",
        "colab_type": "code",
        "colab": {
          "base_uri": "https://localhost:8080/",
          "height": 799
        },
        "outputId": "171060a5-5851-48b5-ff0e-e08b155d5d6f"
      },
      "source": [
        "# sort the users from highest to lowest spenders\n",
        "total_spent.sortBy(lambda x: x[1],ascending = False).collect()"
      ],
      "execution_count": 28,
      "outputs": [
        {
          "output_type": "execute_result",
          "data": {
            "text/plain": [
              "[(42, 6733.984886563208),\n",
              " (29, 5274.955823921339),\n",
              " (40, 4995.921313783161),\n",
              " (27, 4903.011894113405),\n",
              " (46, 4730.245013657799),\n",
              " (23, 4625.372861242738),\n",
              " (17, 4438.3226020728225),\n",
              " (8, 3879.904911951525),\n",
              " (41, 3827.491382409101),\n",
              " (50, 3799.3406594613216),\n",
              " (35, 3655.3509932699008),\n",
              " (4, 3652.4454445774113),\n",
              " (13, 3587.4110998768074),\n",
              " (14, 3584.295802942165),\n",
              " (5, 3536.5419966190248),\n",
              " (9, 3486.515223856313),\n",
              " (44, 3321.0389497153146),\n",
              " (49, 3209.540468589899),\n",
              " (38, 3190.6816875880013),\n",
              " (3, 2989.708772673705),\n",
              " (12, 2887.1390288424345),\n",
              " (10, 2871.56857274321),\n",
              " (1, 2713.8801553661165),\n",
              " (28, 2680.377718191896),\n",
              " (30, 2628.870502317258),\n",
              " (6, 2552.6273518872545),\n",
              " (11, 2421.8199221028617),\n",
              " (18, 2405.5019221181306),\n",
              " (45, 2372.6368907231617),\n",
              " (31, 2183.2762172591106),\n",
              " (34, 1873.4915442153613),\n",
              " (2, 1871.0429168550813),\n",
              " (15, 1823.419981256786),\n",
              " (36, 1538.1476141336393),\n",
              " (33, 1508.175481670356),\n",
              " (37, 1508.1347829727833),\n",
              " (43, 1479.6149017413604),\n",
              " (16, 1479.440251191072),\n",
              " (25, 1448.1629304862092),\n",
              " (24, 1005.6201601861999),\n",
              " (21, 918.3212084085993),\n",
              " (19, 790.659680360381),\n",
              " (39, 663.5753861719022),\n",
              " (7, 560.6845471035535),\n",
              " (32, 547.2945859233386),\n",
              " (22, 346.20936088412253)]"
            ]
          },
          "metadata": {
            "tags": []
          },
          "execution_count": 28
        }
      ]
    },
    {
      "cell_type": "markdown",
      "metadata": {
        "id": "4ujQpPvvIE7t",
        "colab_type": "text"
      },
      "source": [
        "Next, let's determine how many items were bought per user. This can be solved in one line using an RDD method. After you've counted the total number of items bought per person, sort the users from most number of items bought to least number of items. Time to start a customer loyalty program!"
      ]
    },
    {
      "cell_type": "code",
      "metadata": {
        "id": "075--NUIIE7t",
        "colab_type": "code",
        "colab": {
          "base_uri": "https://localhost:8080/",
          "height": 765
        },
        "outputId": "61426114-537f-4fe2-c27c-f75e9ea2e9e2"
      },
      "source": [
        "total_items = sales_data.countByKey()\n",
        "sorted(total_items.items(),key=lambda kv:kv[1],reverse=True)"
      ],
      "execution_count": 29,
      "outputs": [
        {
          "output_type": "execute_result",
          "data": {
            "text/plain": [
              "[(42, 14),\n",
              " (29, 12),\n",
              " (41, 11),\n",
              " (17, 11),\n",
              " (14, 10),\n",
              " (27, 10),\n",
              " (46, 10),\n",
              " (50, 9),\n",
              " (4, 9),\n",
              " (13, 9),\n",
              " (9, 9),\n",
              " (10, 8),\n",
              " (38, 8),\n",
              " (40, 8),\n",
              " (3, 8),\n",
              " (35, 8),\n",
              " (23, 8),\n",
              " (8, 7),\n",
              " (31, 6),\n",
              " (49, 6),\n",
              " (5, 6),\n",
              " (44, 6),\n",
              " (15, 6),\n",
              " (18, 6),\n",
              " (25, 6),\n",
              " (2, 5),\n",
              " (28, 5),\n",
              " (12, 5),\n",
              " (6, 5),\n",
              " (34, 5),\n",
              " (11, 5),\n",
              " (30, 5),\n",
              " (33, 4),\n",
              " (1, 4),\n",
              " (37, 4),\n",
              " (43, 3),\n",
              " (45, 3),\n",
              " (19, 3),\n",
              " (36, 3),\n",
              " (16, 2),\n",
              " (21, 2),\n",
              " (24, 2),\n",
              " (7, 1),\n",
              " (32, 1)]"
            ]
          },
          "metadata": {
            "tags": []
          },
          "execution_count": 29
        }
      ]
    },
    {
      "cell_type": "markdown",
      "metadata": {
        "id": "f2nc3ZvMIE7v",
        "colab_type": "text"
      },
      "source": [
        "### Additional Reading\n",
        "\n",
        "- [The original paper on RDDs](https://cs.stanford.edu/~matei/papers/2012/nsdi_spark.pdf)\n",
        "- [RDDs in Apache Spark](https://data-flair.training/blogs/create-rdds-in-apache-spark/)\n",
        "- [Programming with RDDs](https://runawayhorse001.github.io/LearningApacheSpark/rdd.html)\n",
        "- [RDD Transformations and Actions Summary](https://www.analyticsvidhya.com/blog/2016/10/using-pyspark-to-perform-transformations-and-actions-on-rdd/)"
      ]
    },
    {
      "cell_type": "markdown",
      "metadata": {
        "id": "BlPAfjm8IE7v",
        "colab_type": "text"
      },
      "source": [
        "## Summary\n",
        "\n",
        "In this lab we went through a brief introduction to RDD creation from a Python collection, setting a number of logical partitions for an RDD and extracting lineage. We also used transformations and actions to perform calculations across RDDs on a distributed setup. In the next lab, you'll get the chance to apply these transformations on different books to calculate word counts and various statistics.\n"
      ]
    }
  ]
}